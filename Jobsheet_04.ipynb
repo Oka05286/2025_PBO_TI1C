{
  "nbformat": 4,
  "nbformat_minor": 0,
  "metadata": {
    "colab": {
      "provenance": [],
      "authorship_tag": "ABX9TyOYF4c/hWyxX3sGIAWCLOVc",
      "include_colab_link": true
    },
    "kernelspec": {
      "name": "python3",
      "display_name": "Python 3"
    },
    "language_info": {
      "name": "python"
    }
  },
  "cells": [
    {
      "cell_type": "markdown",
      "metadata": {
        "id": "view-in-github",
        "colab_type": "text"
      },
      "source": [
        "<a href=\"https://colab.research.google.com/github/Oka05286/2025_PBO_TI1C/blob/main/Jobsheet_04.ipynb\" target=\"_parent\"><img src=\"https://colab.research.google.com/assets/colab-badge.svg\" alt=\"Open In Colab\"/></a>"
      ]
    },
    {
      "cell_type": "code",
      "execution_count": 1,
      "metadata": {
        "id": "xJrdVmffZsKL",
        "colab": {
          "base_uri": "https://localhost:8080/",
          "height": 0
        },
        "outputId": "37759b44-7be0-49dd-e67d-cd61d427bedf"
      },
      "outputs": [
        {
          "output_type": "stream",
          "name": "stdout",
          "text": [
            "Ini adalah mobil Tesla Model S berwarna Merah.\n",
            "Mesin kendaraan Tesla Model S dinyalakan\n",
            "Merk mobil: Tesla Model S\n"
          ]
        }
      ],
      "source": [
        "# Kelas induk\n",
        "class Kendaraan:\n",
        "  def __init__(self, merk):\n",
        "    self.merk = merk\n",
        "\n",
        "  def mulai_mesin(self):\n",
        "    print(f\"Mesin kendaraan {self.merk} dinyalakan\")\n",
        "\n",
        "#Kelas Anak (mewarisi dari kendaraan)\n",
        "class Mobil(Kendaraan):\n",
        "  def __init__(self, merk, warna):\n",
        "    # Memanggil __init__kelas induk (akan dibahas di prektikum 2)\n",
        "    # Untuk sekarang, kita set merk secara manual\n",
        "    self.merk = merk # Mewarisi 'merk' tapi di-set ulang di sini\n",
        "    self.warna = warna # Atribut khusus Mobil\n",
        "\n",
        "  def info_mobil(self):\n",
        "    print(f\"Ini adalah mobil {self.merk} berwarna {self.warna}.\")\n",
        "\n",
        "# ---Kode Utama ---\n",
        "if __name__==\"__main__\":\n",
        "  mobil_tesla = Mobil(\"Tesla Model S\", \"Merah\")\n",
        "\n",
        "  # Memanggil metode dari kelas anak\n",
        "  mobil_tesla.info_mobil()\n",
        "\n",
        "  # Memanggil metode yang diwarisi dari kelas induk\n",
        "  mobil_tesla.mulai_mesin()\n",
        "\n",
        "  # Mengakses atribut yang diwarisi (dan di-set di anak)\n",
        "  print(f\"Merk mobil: {mobil_tesla.merk}\")"
      ]
    },
    {
      "cell_type": "code",
      "source": [
        "# Kelas Induk\n",
        "class Person:\n",
        "  def __init__(self, nama, usia):\n",
        "    print(f\"(Memanggil __init__Person untuk '{nama}')\")\n",
        "    self.nama = nama\n",
        "    self.usia = usia\n",
        "\n",
        "  def perkenalkan_diri(self):\n",
        "    print(f\"Halo, nama saya {self.nama}, usia saya {self.usia} tahun\")\n",
        "\n",
        "# Kelas anak (mewarisi dari Person)\n",
        "class Student(Person): # Inherit from Person\n",
        "  def __init__(self, nama, usia, student_id, jurusan):\n",
        "    print(f\"(Memanggil __init__Student untuk '{nama}')\")\n",
        "    # Memanggil __init__ dari kelas Person untuk inisialisasi nama dan usia\n",
        "    super().__init__(nama, usia)\n",
        "    # Menambahkan atribut khusus Student\n",
        "    self.student_id = student_id\n",
        "    self.jurusan = jurusan\n",
        "    print(f\"(Inisiasi atribut Student selesai untuk '{nama}')\")\n",
        "\n",
        "  def info_akademik(self):\n",
        "    print(f\"ID Mahasiswa: {self.student_id}\")\n",
        "    print(f\"Jurusan: {self.jurusan}\")\n",
        "\n",
        "  # Override perkenalkan diri untuk menambahkan info student\n",
        "  def perkenalkan_diri(self):\n",
        "    super().perkenalkan_diri() # Panggil versi person\n",
        "    print(f\"Saya adalah mahasiswa dengan ID {self.student_id}, jurusan {self.jurusan}.\")\n",
        "\n",
        "# --- Kode Utama ---\n",
        "if __name__==\"__main__\":\n",
        "  # Membuat objek Person\n",
        "  dosen = Person (\"Pak Anton\", 45)\n",
        "  print(\"-\" * 20)\n",
        "  dosen.perkenalkan_diri()\n",
        "  print(\"\\n\" + \"=\" * 30 + \"\\n\")\n",
        "\n",
        "  # Membuat objek student\n",
        "  mahasiswa = Student(\"Dewi\", 20, \"MHS001\", \"Teknik Komputer\")\n",
        "  print(\"-\" * 20)\n",
        "  mahasiswa.perkenalkan_diri() # Panggil versi override di Student\n",
        "  print(\"-\" * 20)\n",
        "  mahasiswa.info_akademik() # Panggil metode khusus Student\n",
        "\n",
        "  # Cek atribut yang diwarisi\n",
        "  print(f\"\\nUsia mahasiswa {mahasiswa.nama}: {mahasiswa.usia}\") # usia diwarisi dari Person"
      ],
      "metadata": {
        "id": "NGD3WsMUiDe1",
        "outputId": "3eb2490c-c842-49bb-8038-12d22c87441b",
        "colab": {
          "base_uri": "https://localhost:8080/",
          "height": 0
        }
      },
      "execution_count": 6,
      "outputs": [
        {
          "output_type": "stream",
          "name": "stdout",
          "text": [
            "(Memanggil __init__Person untuk 'Pak Anton')\n",
            "--------------------\n",
            "Halo, nama saya Pak Anton, usia saya 45 tahun\n",
            "\n",
            "==============================\n",
            "\n",
            "(Memanggil __init__Student untuk 'Dewi')\n",
            "(Memanggil __init__Person untuk 'Dewi')\n",
            "(Inisiasi atribut Student selesai untuk 'Dewi')\n",
            "--------------------\n",
            "Halo, nama saya Dewi, usia saya 20 tahun\n",
            "Saya adalah mahasiswa dengan ID MHS001, jurusan Teknik Komputer.\n",
            "--------------------\n",
            "ID Mahasiswa: MHS001\n",
            "Jurusan: Teknik Komputer\n",
            "\n",
            "Usia mahasiswa Dewi: 20\n"
          ]
        }
      ]
    },
    {
      "cell_type": "code",
      "source": [
        "# kelas Induk\n",
        "class Hewan:\n",
        "  def __init__(self, nama):\n",
        "    self.nama = nama\n",
        "\n",
        "  def bersuara(self):\n",
        "    print(f\"{self.nama} mengeluarkan suara generik.\")\n",
        "\n",
        "  def tampilkan_info(self):\n",
        "    print(f\"Ini adalah hewan bernama {self.nama}.\")\n",
        "\n",
        "# Kelas anak\n",
        "class Kucing(hewan):\n",
        "  def __init__(self, nama, ras):\n",
        "    super().__init__(nama) # panggil init induk\n",
        "    self.ras = ras\n",
        "\n",
        "  # Method overriding untuk bersuara\n",
        "  def bersuara(self):\n",
        "    print(f\"{self.nama} (kucing) mengeong: Meow!\")\n",
        "\n",
        "  # Method Overriding untuk tampilkan info, memanggil versi induk\n",
        "  def tampilkan_info(self):\n",
        "    super().tampilkan_info() # Panggil implementasi dari Hewan\n",
        "    print(f\"Ini adalah kucing ras {self.ras}.\") # Tambahkan info spesifik\n",
        "\n",
        "# --- Kode Utama ---\n",
        "if __name__==\"__main__\":\n",
        "  hewan_umum = Hewan(\"Makhluk\")\n",
        "  kucing_persia = Kucing(\"Puspus\", \"Persia\")\n",
        "\n",
        "  print(\"Info Hewan Umum:\")\n",
        "  hewan_umum.tampilkan_info()\n",
        "  hewan_umum.bersuara()\n",
        "  print(\"-\" * 20)\n",
        "\n",
        "  print(\"Info Kucing Persia:\")\n",
        "  kucing_persia.tampilkan_info() # Akan memanggil versi Kucing\n",
        "  kucing_persia.bersuara() # Akan memanggil versi Kucing"
      ],
      "metadata": {
        "id": "0kRicE6_shYq",
        "outputId": "3ee10fc9-e096-4cfd-dc0f-115162e5f6a1",
        "colab": {
          "base_uri": "https://localhost:8080/",
          "height": 0
        }
      },
      "execution_count": 9,
      "outputs": [
        {
          "output_type": "stream",
          "name": "stdout",
          "text": [
            "Info Hewan Umum:\n",
            "Ini adalah hewan bernama Makhluk.\n",
            "Makhluk mengeluarkan suara generik.\n",
            "--------------------\n",
            "Info Kucing Persia:\n",
            "Ini adalah hewan bernama Puspus.\n",
            "Ini adalah kucing ras Persia.\n",
            "Puspus (kucing) mengeong: Meow!\n"
          ]
        }
      ]
    },
    {
      "cell_type": "code",
      "source": [
        "# Kelas Induk Level 1\n",
        "class Organisme:\n",
        "  def __init__(self, nama):\n",
        "    self.nama = nama\n",
        "    print(f\"Organisme '{self.nama}' diciptakan.\")\n",
        "\n",
        "  def bernapas(self):\n",
        "    print(f\"{self.nama} sedang bernapas.\")\n",
        "\n",
        "# Kelas Anak Level 1\n",
        "class Hewan(Organisme):\n",
        "  def __init__(self, nama, jenis_makanan):\n",
        "    super().__init__(nama) # Panggil init Organisme\n",
        "    self.jenis_makanan = jenis_makanan\n",
        "\n",
        "  def bergerak(self):\n",
        "    print(f\"{self.nama} sedang bergerak.\")\n",
        "\n",
        "# Kelas Anak Level 2 (mewarisi dari hewan)\n",
        "class Mamalia(Hewan):\n",
        "  def __init__(self, nama, jenis_makanan, jumlah_kaki):\n",
        "    super().__init__(nama, jenis_makanan) # Panggil init Hewan\n",
        "    self.jumlah_kaki = jumlah_kaki\n",
        "    print(f\"Mamalia '{self.nama}' memiliki {self.jumlah_kaki} kaki.\")\n",
        "\n",
        "  def menyusui(self):\n",
        "    print(f\"{self.nama} sedang menyusui.\")\n",
        "\n",
        "# --- Kode Utama ---\n",
        "if __name__==\"__main__\":\n",
        "  kucing = Mamalia(\"Kucing Persia\", \"Karnivora\", 4)\n",
        "  print(\"-\" * 20)\n",
        "\n",
        "  # Memanggil metode dari kelas Mamalia\n",
        "  kucing.menyusui()\n",
        "\n",
        "  # Memanggil metode yang diwarisi dari kelas hewan\n",
        "  kucing.bergerak()\n",
        "  print(f\"Jenis makanan: {kucing.jenis_makanan}\")\n",
        "\n",
        "  # Memanggil metode yang diwarisi dari kelas Organisme\n",
        "  kucing.bernapas()\n",
        "  print(f\"Nama organisme: {kucing.nama}\")"
      ],
      "metadata": {
        "id": "OpoRBqFxvnz2",
        "outputId": "aa1fd5f4-94b5-4b18-d7d1-0ed95744036b",
        "colab": {
          "base_uri": "https://localhost:8080/",
          "height": 0
        }
      },
      "execution_count": 13,
      "outputs": [
        {
          "output_type": "stream",
          "name": "stdout",
          "text": [
            "Organisme 'Kucing Persia' diciptakan.\n",
            "Mamalia 'Kucing Persia' memiliki 4 kaki.\n",
            "--------------------\n",
            "Kucing Persia sedang menyusui.\n",
            "Kucing Persia sedang bergerak.\n",
            "Jenis makanan: Karnivora\n",
            "Kucing Persia sedang bernapas.\n",
            "Nama organisme: Kucing Persia\n"
          ]
        }
      ]
    },
    {
      "cell_type": "code",
      "source": [
        "import locale\n",
        "\n",
        "# Set locale ke Indonesia untuk mata uang\n",
        "try:\n",
        "  locale.setlocale(locale.LC_ALL, 'id_ID.UTF-8')\n",
        "except locale.Error:\n",
        "  print(\"Locale id_ID.UTF-8 tidak tersedia, menggunakan locale default.\")\n",
        "\n",
        "# Fungsi helper untuk format mata uang\n",
        "def format_rupiah(angka):\n",
        "  return locale.currency(angka, grouping=True, symbol='Rp ')\n",
        "\n",
        "# Kelas Induk\n",
        "class pegawai:\n",
        "  def __init__(self, nama, id_pegawai, gaji_pokok):\n",
        "    self.nama = nama\n",
        "    self.id_pegawai = id_pegawai\n",
        "    self.gaji_pokok = gaji_pokok\n",
        "\n",
        "  def hitung_gaji(self):\n",
        "    # Gaji dasar, bisa di-override\n",
        "    return self.gaji_pokok\n",
        "\n",
        "  def tampilkan_info(self):\n",
        "    print(f\"ID: {self.id_pegawai}, Nama: {self.nama}\")\n",
        "    print(f\" Gaji Pokok: {format_rupiah(self.gaji_pokok)}\")\n",
        "\n",
        "# Kelas anak 1\n",
        "class Manager(Pegawai):\n",
        "  def __init__(self, nama, id_pegawai, gaji_pokok, tunjangan_jabatan):\n",
        "    super().__init__(nama, id_pegawai, gaji_pokok)\n",
        "    self.tunjangan_jabatan = tunjangan_jabatan\n",
        "\n",
        "  # Override hitung gaji\n",
        "  def hitung_gaji(self):\n",
        "    gaji_total = super.hitung_gaji() + self.tunjangan_jabatan\n",
        "    return gaji_total\n",
        "\n",
        "  # Override tampilkan info (memanggil versi induk)\n",
        "  def tampilkan_info(self):\n",
        "    print(\"---Info Staf manajer---\")\n",
        "    super().tampilkan_info() # Panggil info dasar dari pegawai\n",
        "    print(f\"Tunjangan Jabatan: {format_rupiah.(self.tunjangan_jabatan)}\")\n",
        "    print(f\"Total Gaji: {format_rupiah(self.hitung_gaji())}\")\n",
        "\n",
        "# Kelas anak 2\n",
        "class StafTeknis(Pegawai):\n",
        "  def __init__(self, nama, id_pegawai, gaji_pokok, keahlian, bonus_keahlian):\n",
        "    super().__init__(nama, id_pegawai, gaji_pokok)\n",
        "    self.keahlian = keahlian\n",
        "    self.bonus_keahlian = bonus_keahlian\n",
        "\n",
        "  # Override hitung_gaji\n",
        "  def hitung_gaji(self):\n",
        "    gaji_total = super().hitung_gaji() + self.bonus_keahlian\n",
        "    return gaji_total\n",
        "\n",
        "  # Override tampilkan_info (memanggil versi induk)\n",
        "  def tampilkan_info(self):\n",
        "    print(\"---Info Staf Teknis---\")\n",
        "    super().tampilkan_info() # Panggil info dasar pegawai\n",
        "    print(f\"Keahlian: {self.keahlian}\")\n",
        "    print(f\"Bonus Keahlian: {format_rupiah(self.bonus_keahlian)}\")\n",
        "    print(f\"Total Gaji: {format_rupiah(self.hitung_gaji())}\")\n",
        "\n",
        "# --- Kode Utama ---\n",
        "if __name__==\"__main__\":\n",
        "  manager1 = Manager(\"Budi Santoso\", \"M001\", 10000000, 5000000)\n",
        "  staf1 = StafTeknis(\"Citra Lestari\", \"S001\", 7000000, \"Python Programming\", 1500000)\n",
        "  pegawai_baru = Pegawai(\"Rian\", \"P005\", 5000000) # Pegawai biasa\n",
        "  print(\"Menampilkan Informasi Pegawai:\")\n",
        "  manager1.tampilkan_info()\n",
        "  staf1.tampilkan_info()\n",
        "  print(\"-\" * 30)\n",
        "\n",
        "  print(\"---Info Pegawai Baru---\")\n",
        "  pegawai_baru.tampilkan_info()\n",
        "  print(f\"Total \")"
      ],
      "metadata": {
        "id": "_fBknMMV1ygx",
        "outputId": "f0b54b9f-3012-4179-9424-35586e5ceaf3",
        "colab": {
          "base_uri": "https://localhost:8080/",
          "height": 106
        }
      },
      "execution_count": 14,
      "outputs": [
        {
          "output_type": "error",
          "ename": "SyntaxError",
          "evalue": "incomplete input (<ipython-input-14-78b17709b308>, line 24)",
          "traceback": [
            "\u001b[0;36m  File \u001b[0;32m\"<ipython-input-14-78b17709b308>\"\u001b[0;36m, line \u001b[0;32m24\u001b[0m\n\u001b[0;31m    def tampilkan_info(self:\u001b[0m\n\u001b[0m                            ^\u001b[0m\n\u001b[0;31mSyntaxError\u001b[0m\u001b[0;31m:\u001b[0m incomplete input\n"
          ]
        }
      ]
    }
  ]
}