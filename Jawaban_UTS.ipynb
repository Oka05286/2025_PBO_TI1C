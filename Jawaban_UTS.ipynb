{
  "nbformat": 4,
  "nbformat_minor": 0,
  "metadata": {
    "colab": {
      "provenance": [],
      "authorship_tag": "ABX9TyMH8IXaV627TyTvOku9zmtB",
      "include_colab_link": true
    },
    "kernelspec": {
      "name": "python3",
      "display_name": "Python 3"
    },
    "language_info": {
      "name": "python"
    }
  },
  "cells": [
    {
      "cell_type": "markdown",
      "metadata": {
        "id": "view-in-github",
        "colab_type": "text"
      },
      "source": [
        "<a href=\"https://colab.research.google.com/github/Oka05286/2025_PBO_TI1C/blob/main/Jawaban_UTS.ipynb\" target=\"_parent\"><img src=\"https://colab.research.google.com/assets/colab-badge.svg\" alt=\"Open In Colab\"/></a>"
      ]
    },
    {
      "cell_type": "code",
      "execution_count": null,
      "metadata": {
        "id": "SXmd-854zuEJ",
        "outputId": "14ed9f75-380d-4e22-ca7d-54da9ed78820",
        "colab": {
          "base_uri": "https://localhost:8080/",
          "height": 453
        }
      },
      "outputs": [
        {
          "output_type": "stream",
          "name": "stdout",
          "text": [
            "Alat dinyalakan\n",
            "Merk: Panasonic\n",
            "Model: Persegi Panjang\n",
            "Alat dinyalakan\n",
            "Merk: Sharp\n",
            "Model: Kotak\n",
            "Frekuensi: 5.4\n"
          ]
        },
        {
          "output_type": "error",
          "ename": "NameError",
          "evalue": "name 'status_daya' is not defined",
          "traceback": [
            "\u001b[0;31m---------------------------------------------------------------------------\u001b[0m",
            "\u001b[0;31mNameError\u001b[0m                                 Traceback (most recent call last)",
            "\u001b[0;32m/tmp/ipython-input-1-498173859.py\u001b[0m in \u001b[0;36m<cell line: 0>\u001b[0;34m()\u001b[0m\n\u001b[1;32m     49\u001b[0m \u001b[0mradio\u001b[0m\u001b[0;34m.\u001b[0m\u001b[0mget_info\u001b[0m\u001b[0;34m(\u001b[0m\u001b[0;34m)\u001b[0m\u001b[0;34m\u001b[0m\u001b[0;34m\u001b[0m\u001b[0m\n\u001b[1;32m     50\u001b[0m \u001b[0;34m\u001b[0m\u001b[0m\n\u001b[0;32m---> 51\u001b[0;31m \u001b[0mtv\u001b[0m\u001b[0;34m.\u001b[0m\u001b[0mganti_channel\u001b[0m\u001b[0;34m(\u001b[0m\u001b[0;34m)\u001b[0m\u001b[0;34m\u001b[0m\u001b[0;34m\u001b[0m\u001b[0m\n\u001b[0m\u001b[1;32m     52\u001b[0m \u001b[0mradio\u001b[0m\u001b[0;34m.\u001b[0m\u001b[0mset_frekuensi\u001b[0m\u001b[0;34m(\u001b[0m\u001b[0;34m)\u001b[0m\u001b[0;34m\u001b[0m\u001b[0;34m\u001b[0m\u001b[0m\n\u001b[1;32m     53\u001b[0m \u001b[0;34m\u001b[0m\u001b[0m\n",
            "\u001b[0;32m/tmp/ipython-input-1-498173859.py\u001b[0m in \u001b[0;36mganti_channel\u001b[0;34m(self)\u001b[0m\n\u001b[1;32m     23\u001b[0m \u001b[0;34m\u001b[0m\u001b[0m\n\u001b[1;32m     24\u001b[0m   \u001b[0;32mdef\u001b[0m \u001b[0mganti_channel\u001b[0m\u001b[0;34m(\u001b[0m\u001b[0mself\u001b[0m\u001b[0;34m)\u001b[0m\u001b[0;34m:\u001b[0m\u001b[0;34m\u001b[0m\u001b[0;34m\u001b[0m\u001b[0m\n\u001b[0;32m---> 25\u001b[0;31m     \u001b[0;32mif\u001b[0m \u001b[0;32mnot\u001b[0m \u001b[0mstatus_daya\u001b[0m\u001b[0;34m:\u001b[0m\u001b[0;34m\u001b[0m\u001b[0;34m\u001b[0m\u001b[0m\n\u001b[0m\u001b[1;32m     26\u001b[0m       \u001b[0mprint\u001b[0m\u001b[0;34m(\u001b[0m\u001b[0;34m\"Channel Televisi telah Diganti\"\u001b[0m\u001b[0;34m)\u001b[0m\u001b[0;34m\u001b[0m\u001b[0;34m\u001b[0m\u001b[0m\n\u001b[1;32m     27\u001b[0m \u001b[0;34m\u001b[0m\u001b[0m\n",
            "\u001b[0;31mNameError\u001b[0m: name 'status_daya' is not defined"
          ]
        }
      ],
      "source": [
        "class AlatElektronik:\n",
        "  def __init__(self, merk, model, status_daya=False):\n",
        "    self.merk = merk\n",
        "    self.model = model\n",
        "    self.status_daya = status_daya\n",
        "\n",
        "  def get_info(self):\n",
        "    print(f\"Merk: {self.merk}\")\n",
        "    print(f\"Model: {self.model}\")\n",
        "\n",
        "  def nyalakan(self):\n",
        "    self.status_daya = True\n",
        "    print(\"Alat dinyalakan\")\n",
        "\n",
        "  def matikan(self):\n",
        "    self.status_daya = False\n",
        "    print(\"Alat dimatikan\")\n",
        "\n",
        "class Televisi(AlatElektronik):\n",
        "  def __init__(self, merk, model, ukuran_layar, status_daya=False):\n",
        "    super().__init__(merk, model, status_daya)\n",
        "    self.ukuran_layar = ukuran_layar\n",
        "\n",
        "  def ganti_channel(self):\n",
        "    if not status_daya:\n",
        "      print(\"Channel Televisi telah Diganti\")\n",
        "\n",
        "class Radio(AlatElektronik):\n",
        "  def __init__(self, merk, model, frekuensi, status_daya=False):\n",
        "    super().__init__(merk, model, status_daya)\n",
        "    self.frekuensi = frekuensi\n",
        "\n",
        "  #Override\n",
        "  def get_info(self):\n",
        "    super().get_info()\n",
        "    print(f\"Frekuensi: {self.frekuensi}\")\n",
        "\n",
        "  def set_frekuensi(self):\n",
        "    if not status_daya:\n",
        "      print(f\"Frekuensi Baru: {self.frekuensi}\")\n",
        "\n",
        "tv = Televisi(\"Panasonic\", \"Persegi Panjang\", 5)\n",
        "radio = Radio(\"Sharp\", \"Kotak\", 5.4)\n",
        "\n",
        "tv.nyalakan()\n",
        "tv.get_info()\n",
        "\n",
        "radio.nyalakan()\n",
        "radio.get_info()\n",
        "\n",
        "tv.ganti_channel()\n",
        "radio.set_frekuensi()\n",
        "\n",
        "tv.matikan()\n",
        "radio.matikan()"
      ]
    },
    {
      "cell_type": "markdown",
      "source": [
        "# Kode Benar"
      ],
      "metadata": {
        "id": "c8mXE4R4U09f"
      }
    },
    {
      "cell_type": "code",
      "source": [
        "class AlatElektronik:\n",
        "  def __init__(self, merk, model, status_daya=False):\n",
        "    self.merk = merk\n",
        "    self.model = model\n",
        "    self.status_daya = status_daya\n",
        "\n",
        "  def get_info(self):\n",
        "    print(f\"Merk: {self.merk}\")\n",
        "    print(f\"Model: {self.model}\")\n",
        "\n",
        "  def nyalakan(self):\n",
        "    self.status_daya = True\n",
        "    print(\"Alat dinyalakan\")\n",
        "\n",
        "  def matikan(self):\n",
        "    self.status_daya = False\n",
        "    print(\"Alat dimatikan\")\n",
        "\n",
        "class Televisi(AlatElektronik):\n",
        "  def __init__(self, merk, model, ukuran_layar, status_daya=False):\n",
        "    super().__init__(merk, model, status_daya)\n",
        "    self.ukuran_layar = ukuran_layar\n",
        "\n",
        "  def nyalakan(self):\n",
        "    super().nyalakan()\n",
        "    print(\"Televisi dinyalakan\")\n",
        "\n",
        "  def get_info(self):\n",
        "    super().get_info()\n",
        "    print(f\"Ukuran Layar: {self.ukuran_layar}\"\n",
        "\n",
        "  def ganti_channel(self):\n",
        "    if not status_daya:\n",
        "      print(\"Channel Televisi telah Diganti\")\n",
        "\n",
        "class Radio(AlatElektronik):\n",
        "  def __init__(self, merk, model, frekuensi, status_daya=False):\n",
        "    super().__init__(merk, model, status_daya)\n",
        "    self.frekuensi = frekuensi\n",
        "\n",
        "  def nyalakan(self):\n",
        "    super().nyalakan()\n",
        "    print(\"Radio dinyalakan\")\n",
        "\n",
        "  def get_info(self):\n",
        "    super().get_info()\n",
        "    print(f\"Frekuensi: {self.frekuensi}\")\n",
        "\n",
        "  #Override\n",
        "  def get_info(self):\n",
        "    super().get_info()\n",
        "    print(f\"Frekuensi: {self.frekuensi}\")\n",
        "\n",
        "  def set_frekuensi(self):\n",
        "    if not status_daya:\n",
        "      print(f\"Frekuensi Baru: {self.frekuensi}\")\n",
        "\n",
        "tv = Televisi(\"Panasonic\", \"Persegi Panjang\", 5)\n",
        "radio = Radio(\"Sharp\", \"Kotak\", 5.4)\n",
        "\n",
        "tv.nyalakan()\n",
        "tv.get_info()\n",
        "\n",
        "radio.nyalakan()\n",
        "radio.get_info()\n",
        "\n",
        "tv.ganti_channel()\n",
        "radio.set_frekuensi()\n",
        "\n",
        "tv.matikan()\n",
        "radio.matikan()"
      ],
      "metadata": {
        "id": "j5ePd1lqVT4t"
      },
      "execution_count": null,
      "outputs": []
    }
  ]
}