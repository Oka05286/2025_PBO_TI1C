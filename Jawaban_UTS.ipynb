{
  "nbformat": 4,
  "nbformat_minor": 0,
  "metadata": {
    "colab": {
      "provenance": [],
      "toc_visible": true,
      "authorship_tag": "ABX9TyO1ZNzRQRuJAK/457/S5v8I",
      "include_colab_link": true
    },
    "kernelspec": {
      "name": "python3",
      "display_name": "Python 3"
    },
    "language_info": {
      "name": "python"
    }
  },
  "cells": [
    {
      "cell_type": "markdown",
      "metadata": {
        "id": "view-in-github",
        "colab_type": "text"
      },
      "source": [
        "<a href=\"https://colab.research.google.com/github/Oka05286/2025_PBO_TI1C/blob/main/Jawaban_UTS.ipynb\" target=\"_parent\"><img src=\"https://colab.research.google.com/assets/colab-badge.svg\" alt=\"Open In Colab\"/></a>"
      ]
    },
    {
      "cell_type": "markdown",
      "source": [
        "# Kode Salah"
      ],
      "metadata": {
        "id": "c8mXE4R4U09f"
      }
    },
    {
      "cell_type": "code",
      "source": [
        "class AlatElektronik:\n",
        "  def __init__(self, merk, model, status_daya=False):\n",
        "    self.merk = merk\n",
        "    self.model = model\n",
        "    self.status_daya = status_daya\n",
        "\n",
        "  def get_info(self):\n",
        "    print(f\"Merk: {self.merk}\")\n",
        "    print(f\"Model: {self.model}\")\n",
        "\n",
        "  def nyalakan(self):\n",
        "    self.status_daya = True\n",
        "    print(\"Alat dinyalakan\")\n",
        "\n",
        "  def matikan(self):\n",
        "    self.status_daya = False\n",
        "    print(\"Alat dimatikan\")\n",
        "\n",
        "class Televisi(AlatElektronik):\n",
        "  def __init__(self, merk, model, ukuran_layar, status_daya):\n",
        "    super().__init__(merk, model, status_daya)\n",
        "    self.ukuran_layar = ukuran_layar\n",
        "\n",
        "  def ganti_channel(self):\n",
        "    if not status_daya:\n",
        "      print(\"Channel Televisi telah diganti\")\n",
        "\n",
        "class Radio(AlatElektronik):\n",
        "  def __init__(self, merk, model, frekuensi, status_daya=False):\n",
        "    super().__init__(merk, model, status_daya)\n",
        "    self.frekuensi = frekuensi\n",
        "\n",
        "  #Override\n",
        "  def get_info(self):\n",
        "    super().get_info\n",
        "    print(f\"Frekuensi: {self.frekuensi}\")\n",
        "\n",
        "  def set_frekuensi(self):\n",
        "    if not status_daya:\n",
        "      print(f\"Frekuensi Baru: {self.frekuensi}\")\n",
        "\n",
        "tv = Televisi(\"Panasonic\", \"Persegi Panjang\", 5)\n",
        "radio = Radio(\"Sharp\", \"Kotak\", 5.4)\n",
        "\n",
        "tv.nyalakan()\n",
        "tv.get_info()\n",
        "\n",
        "radio.nyalakan()\n",
        "radio.get_info()\n",
        "\n",
        "tv.ganti_channel()\n",
        "radio.set_frekuensi()\n",
        "\n",
        "tv.matikan()\n",
        "radio.matikan()"
      ],
      "metadata": {
        "id": "GUsNhrOuYw9u",
        "outputId": "e856a65a-b6da-4c4d-e480-84efa3eac4c8",
        "colab": {
          "base_uri": "https://localhost:8080/",
          "height": 211
        }
      },
      "execution_count": 6,
      "outputs": [
        {
          "output_type": "error",
          "ename": "TypeError",
          "evalue": "Televisi.__init__() missing 1 required positional argument: 'status_daya'",
          "traceback": [
            "\u001b[0;31m---------------------------------------------------------------------------\u001b[0m",
            "\u001b[0;31mTypeError\u001b[0m                                 Traceback (most recent call last)",
            "\u001b[0;32m/tmp/ipython-input-6-4248817012.py\u001b[0m in \u001b[0;36m<cell line: 0>\u001b[0;34m()\u001b[0m\n\u001b[1;32m     40\u001b[0m       \u001b[0mprint\u001b[0m\u001b[0;34m(\u001b[0m\u001b[0;34mf\"Frekuensi Baru: {self.frekuensi}\"\u001b[0m\u001b[0;34m)\u001b[0m\u001b[0;34m\u001b[0m\u001b[0;34m\u001b[0m\u001b[0m\n\u001b[1;32m     41\u001b[0m \u001b[0;34m\u001b[0m\u001b[0m\n\u001b[0;32m---> 42\u001b[0;31m \u001b[0mtv\u001b[0m \u001b[0;34m=\u001b[0m \u001b[0mTelevisi\u001b[0m\u001b[0;34m(\u001b[0m\u001b[0;34m\"Panasonic\"\u001b[0m\u001b[0;34m,\u001b[0m \u001b[0;34m\"Persegi Panjang\"\u001b[0m\u001b[0;34m,\u001b[0m \u001b[0;36m5\u001b[0m\u001b[0;34m)\u001b[0m\u001b[0;34m\u001b[0m\u001b[0;34m\u001b[0m\u001b[0m\n\u001b[0m\u001b[1;32m     43\u001b[0m \u001b[0mradio\u001b[0m \u001b[0;34m=\u001b[0m \u001b[0mRadio\u001b[0m\u001b[0;34m(\u001b[0m\u001b[0;34m\"Sharp\"\u001b[0m\u001b[0;34m,\u001b[0m \u001b[0;34m\"Kotak\"\u001b[0m\u001b[0;34m,\u001b[0m \u001b[0;36m5.4\u001b[0m\u001b[0;34m)\u001b[0m\u001b[0;34m\u001b[0m\u001b[0;34m\u001b[0m\u001b[0m\n\u001b[1;32m     44\u001b[0m \u001b[0;34m\u001b[0m\u001b[0m\n",
            "\u001b[0;31mTypeError\u001b[0m: Televisi.__init__() missing 1 required positional argument: 'status_daya'"
          ]
        }
      ]
    },
    {
      "cell_type": "markdown",
      "source": [
        "# Kode Benar"
      ],
      "metadata": {
        "id": "aC8OHglUWIi4"
      }
    },
    {
      "cell_type": "code",
      "source": [
        "class AlatElektronik:\n",
        "  \"\"\"\n",
        "  Kelas induk untuk merepresentasikan alat elektronik.\n",
        "  \"\"\"\n",
        "  def __init__(self, merk: str, model: str):\n",
        "    self.merk = merk\n",
        "    self.model = model\n",
        "    self.status_daya = False # Default mati\n",
        "\n",
        "  def nyalakan(self):\n",
        "    \"\"\"Mengubah status daya menjadi True dan mencetak pesan.\"\"\"\n",
        "    if not self.status_daya:\n",
        "      self.status_daya = True\n",
        "      print(f\"{self.merk} {self.model} telah dinyalakan.\")\n",
        "    else:\n",
        "      print(f\"{self.merk} {self.model} sudah dalam keadaan menyala.\")\n",
        "\n",
        "  def matikan(self):\n",
        "    \"\"\"Mengubah status_daya menjadi False dan mencetak pesan.\"\"\"\n",
        "    if self.status_daya:\n",
        "      self.status_daya = False\n",
        "      print(f\"{self.merk} {self.model} telah dimatikan.\")\n",
        "    else:\n",
        "      print(f\"{self.merk} {self.model} sudah dalam keadaan mati.\")\n",
        "\n",
        "  def get_info(self):\n",
        "    \"\"\"Mencetak informasi dasar (merk dan model) dan status daya.\"\"\"\n",
        "    print(f\"--- Informasi Alat ---\")\n",
        "    print(f\"Merk: {self.merk}\")\n",
        "    print(f\"Model: {self.model}\")\n",
        "    print(f\"Status Daya: {'menyala' if self.status_daya else 'mati'}\")\n",
        "\n",
        "class Televisi(AlatElektronik):\n",
        "  \"\"\"\n",
        "  Kelas anak untuk merepresentasikan Televisi.\n",
        "  \"\"\"\n",
        "  def __init__(self, merk: str, model: str, ukuran_layar: int):\n",
        "    super().__init__(merk, model)\n",
        "    self.ukuran_layar = ukuran_layar\n",
        "\n",
        "  def get_info(self): #Override\n",
        "    \"\"\"Menampilkan informasi merk, model, dan ukuran layar.\"\"\"\n",
        "    # Memanggil get_info dari parent untuk info dasar + status daya\n",
        "    # Atau bisa juga langsung print semua, sesuai interpretasi soal\n",
        "    # Soal meminta \"menampilkan informasi merk, model, dan ukuran layar\"\n",
        "    # Untuk konsistensi, kita tampilkan status daya juga seperti di parent\n",
        "\n",
        "    print(f\"--- Informasi Televisi ---\")\n",
        "    print(f\"Merk: {self.merk}\")\n",
        "    print(f\"Model: {self.model}\")\n",
        "    print(f\"Ukuran Layar: {self.ukuran_layar} inci\")\n",
        "    print(f\"Status Daya: {'menyala' if self.status_daya else 'mati'}\")\n",
        "\n",
        "  def ganti_channel(self, channel: int):\n",
        "    \"\"\"mencetak pesan penggantian channel (hanya jika televisi menyala).\"\"\"\n",
        "    if self.status_daya:\n",
        "      print(f\"Televisi {self.merk} {self.model}: Channel diganti ke {channel}.\")\n",
        "    else:\n",
        "      print(f\"Televisi {self.merk} {self.model} dalam keadaanmati. Tidak bisa ganti channel\")\n",
        "\n",
        "class Radio(AlatElektronik):\n",
        "  \"\"\"\n",
        "  Kelas anak untuk merepresentasikan Radio.\n",
        "  \"\"\"\n",
        "  def __init__(self, merk: str, model: str, frekuensi: float):\n",
        "    super().__init__(merk, model)\n",
        "    self.frekuensi = frekuensi\n",
        "\n",
        "  def get_info(self): #Override\n",
        "    \"\"\"menampilkan informasi merk, model, dan frekuensi saat ini.\"\"\"\n",
        "    # Soal meminta \"menampilkan informasi merk, model, dan frekuensi saat ini\"\n",
        "    print(f\"--- Informasi Radio ---\")\n",
        "    print(f\"Merk: {self.merk}\")\n",
        "    print(f\"Model: {self.model}\")\n",
        "    print(f\"Frekuensi: {self.frekuensi} MHz\")\n",
        "    print(f\"Status Daya: {'Menyala' if self.status_daya else 'Mati'}\")\n",
        "\n",
        "  def set_frekuensi(self, frekuensi_baru: float):\n",
        "    \"\"\"Mengubah nilai atribut frekuensi (hanya jika radio menyala).\"\"\"\n",
        "    if self.status_daya:\n",
        "      self.frekuensi = frekuensi_baru\n",
        "      print(f\"Radio {self.merk} {self.model}: Frekuensi diubah ke {self.frekuensi} MHz.\")\n",
        "    else:\n",
        "      print(f\"Radio {self.merk} {self.model} dalam keadaan mati. Tidak bisa set frekuensi.\")\n",
        "\n",
        "if __name__==\"__main__\":\n",
        "  print(\"--- Demonstrasi Televisi ---\")\n",
        "  tv_samsung = Televisi(merk=\"Samsung\", model=\"QLED Q80A\", ukuran_layar=65)\n",
        "  tv_samsung.get_info() # Awalnya mati\n",
        "  tv_samsung.nyalakan()\n",
        "  tv_samsung.get_info()\n",
        "  tv_samsung.ganti_channel(channel=7)\n",
        "  tv_samsung.matikan()\n",
        "  tv_samsung.ganti_channel(channel=10) # Coba ganti channel saat mati\n",
        "  print(\"\\n\")\n",
        "\n",
        "  print(\"--- Demonstrasi Radio ---\")\n",
        "  radio_sony = Radio(merk=\"Sony\", model=\"ICF-P27\", frekuensi=98.5)\n",
        "  radio_sony.get_info() # Awalnya mati\n",
        "  radio_sony.nyalakan()\n",
        "  radio_sony.get_info()\n",
        "  radio_sony.set_frekuensi(frekuensi_baru=101.1)\n",
        "  radio_sony.matikan()\n",
        "  radio_sony.set_frekuensi(frekuensi_baru=90.0) # Coba set frekuensi saat mati"
      ],
      "metadata": {
        "id": "ktJWCkwWXo11",
        "outputId": "5c4863c8-cb23-4eee-d756-ac595c7923b7",
        "colab": {
          "base_uri": "https://localhost:8080/"
        }
      },
      "execution_count": 9,
      "outputs": [
        {
          "output_type": "stream",
          "name": "stdout",
          "text": [
            "--- Demonstrasi Televisi ---\n",
            "--- Informasi Televisi ---\n",
            "Merk: Samsung\n",
            "Model: QLED Q80A\n",
            "Ukuran Layar: 65 inci\n",
            "Status Daya: mati\n",
            "Samsung QLED Q80A telah dinyalakan.\n",
            "--- Informasi Televisi ---\n",
            "Merk: Samsung\n",
            "Model: QLED Q80A\n",
            "Ukuran Layar: 65 inci\n",
            "Status Daya: menyala\n",
            "Televisi Samsung QLED Q80A: Channel diganti ke 7.\n",
            "Samsung QLED Q80A telah dimatikan.\n",
            "Televisi Samsung QLED Q80A dalam keadaanmati. Tidak bisa ganti channel\n",
            "\n",
            "\n",
            "--- Demonstrasi Radio ---\n",
            "--- Informasi Radio ---\n",
            "Merk: Sony\n",
            "Model: ICF-P27\n",
            "Frekuensi: 98.5 MHz\n",
            "Status Daya: Mati\n",
            "Sony ICF-P27 telah dinyalakan.\n",
            "--- Informasi Radio ---\n",
            "Merk: Sony\n",
            "Model: ICF-P27\n",
            "Frekuensi: 98.5 MHz\n",
            "Status Daya: Menyala\n",
            "Radio Sony ICF-P27: Frekuensi diubah ke 101.1 MHz.\n",
            "Sony ICF-P27 telah dimatikan.\n",
            "Radio Sony ICF-P27 dalam keadaan mati. Tidak bisa set frekuensi.\n"
          ]
        }
      ]
    }
  ]
}