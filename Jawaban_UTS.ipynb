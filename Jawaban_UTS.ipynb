{
  "nbformat": 4,
  "nbformat_minor": 0,
  "metadata": {
    "colab": {
      "provenance": [],
      "authorship_tag": "ABX9TyPwTuHtFuwL2gTeCSTpYG6u",
      "include_colab_link": true
    },
    "kernelspec": {
      "name": "python3",
      "display_name": "Python 3"
    },
    "language_info": {
      "name": "python"
    }
  },
  "cells": [
    {
      "cell_type": "markdown",
      "metadata": {
        "id": "view-in-github",
        "colab_type": "text"
      },
      "source": [
        "<a href=\"https://colab.research.google.com/github/Oka05286/2025_PBO_TI1C/blob/main/Jawaban_UTS.ipynb\" target=\"_parent\"><img src=\"https://colab.research.google.com/assets/colab-badge.svg\" alt=\"Open In Colab\"/></a>"
      ]
    },
    {
      "cell_type": "code",
      "execution_count": 2,
      "metadata": {
        "id": "SXmd-854zuEJ"
      },
      "outputs": [],
      "source": [
        "class AlatElektronik:\n",
        "  def __init__(self, merk, model, status_daya=False):\n",
        "    self.merk = merk\n",
        "    self.model = model\n",
        "    self.status_daya = status_daya\n",
        "\n",
        "  def get_info(self):\n",
        "    print(f\"Merk: {self.merk}\")\n",
        "    print(f\"Model: {self.model}\")\n",
        "\n",
        "  def nyalakan(self):\n",
        "    self.status_daya = True\n",
        "    print(\"Alat dinyalakan\")\n",
        "\n",
        "  def matikan(self):\n",
        "    self.status_daya = False\n",
        "    print(\"Alat dimatikan\")\n",
        "\n",
        "class Televisi(AlatElektronik):\n",
        "  def __init__(self, merk, model, ukuran_layar, status_daya=False):\n",
        "    super().__init__(merk, model, status_daya)\n",
        "    self.ukuran_layar = ukuran_layar\n",
        "\n",
        "  def ganti_channel(self):\n",
        "    if not status_daya:\n",
        "      print(\"Channel Televisi telah Diganti\")\n",
        "\n",
        "class Radio(AlatElektronik):\n",
        "  def __init__(self, merk, model, frekuensi, status_daya=False):\n",
        "    super().__init__(merk, model, status_daya)\n",
        "    self.frekuensi = frekuensi\n",
        "\n",
        "  #Override\n",
        "  def get_info(self):\n",
        "    super().get_info()\n",
        "    print(f\"Frekuensi: {self.frekuensi}\")\n",
        "\n",
        "  def set_frekuensi(self):\n",
        "    if not status_daya:\n",
        "      print(f\"Frekuensi Baru: {self.frekuensi}\")"
      ]
    }
  ]
}