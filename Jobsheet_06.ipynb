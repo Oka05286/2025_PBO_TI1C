{
  "nbformat": 4,
  "nbformat_minor": 0,
  "metadata": {
    "colab": {
      "provenance": [],
      "authorship_tag": "ABX9TyNHB5GLOGFD/hTvEUCe8sSH",
      "include_colab_link": true
    },
    "kernelspec": {
      "name": "python3",
      "display_name": "Python 3"
    },
    "language_info": {
      "name": "python"
    }
  },
  "cells": [
    {
      "cell_type": "markdown",
      "metadata": {
        "id": "view-in-github",
        "colab_type": "text"
      },
      "source": [
        "<a href=\"https://colab.research.google.com/github/Oka05286/2025_PBO_TI1C/blob/main/Jobsheet_06.ipynb\" target=\"_parent\"><img src=\"https://colab.research.google.com/assets/colab-badge.svg\" alt=\"Open In Colab\"/></a>"
      ]
    },
    {
      "cell_type": "code",
      "execution_count": 1,
      "metadata": {
        "id": "p2c8L9Qt0FNG",
        "outputId": "3420e68f-94b7-4a05-9d2d-25de88b0d212",
        "colab": {
          "base_uri": "https://localhost:8080/"
        }
      },
      "outputs": [
        {
          "output_type": "stream",
          "name": "stdout",
          "text": [
            "Definisi kelas Abstrak 'KendaraanAbstrak' selesai.\n",
            "\n",
            "Contoh definisi kelas anak 'Mobil' selesai.\n",
            "Inisiasi KendaraanAbstrak dengan merk: Toyota\n",
            "Mesin mobil Toyota dinyalakan.\n",
            "Merk kendaraan ini adalahToyota.\n",
            "Mesin mobil Toyota dimatikan.\n"
          ]
        }
      ],
      "source": [
        "# Impor Komponen yang diperlukan dari modul ABC\n",
        "from abc import ABC, abstractmethod\n",
        "\n",
        "# 1. Definisikan Kelas Abstrak\n",
        "# Kelas ini mewarisi dari ABC untuk menandakan bahwa ia adalah\n",
        "# Abstact Base Class\n",
        "class KendaraanAbstrak(ABC):\n",
        "  def __init__(self, merk):\n",
        "    self.merk = merk\n",
        "    print(f\"Inisiasi KendaraanAbstrak dengan merk: {self.merk}\")\n",
        "  # metode konkret (tidak abstrak)\n",
        "  # Metode ini sudah memiliki implementasi dan bisa diwarisi langsung\n",
        "  def info_merk(self):\n",
        "    print(f\"Merk kendaraan ini adalah{self.merk}.\")\n",
        "  # 2. Definisikan Metode Abstrak\n",
        "  # Dekorator @abstractmethod menandakan metode ini WAJIB\n",
        "  # diimplementasikan (di-override) oleh subclass konkret\n",
        "  @abstractmethod\n",
        "  def start_mesin(self):\n",
        "    # Kode di dalam metode ini adalah implementasinya\n",
        "    print(f\"Mesin mobil {self.merk} dinyalakan.\") # mencetak status 'dinyalakan'\n",
        "  # Kelas Mobil ini juga akan menjadi abstrak.\n",
        "  def stop_mesin(self):\n",
        "    # Kode di dalam kode ini adalah implementasinya\n",
        "    print(f\"Mesin mobil {self.merk} dimatikan.\") # Mencetak status 'dimatikan'\n",
        "\n",
        "# --- Kode Utama (Hanya definisi, belum ada instansiasi kelas abstrak)\n",
        "\n",
        "if __name__==\"__main__\":\n",
        "  print(\"Definisi kelas Abstrak 'KendaraanAbstrak' selesai.\")\n",
        "\n",
        "  # Contoh definisi kelas anak (konkret)\n",
        "  # Kelas ini mewarisi dari KendaraanAbstrak\n",
        "  class Mobil(KendaraanAbstrak):\n",
        "    # Implementasi metode abstrak start_mesin\n",
        "    def start_mesin(self):\n",
        "      # Kode di dalam metode ini adalah implementasinya\n",
        "      print(f\"Mesin mobil {self.merk} dinyalakan.\") # Mencetak status 'dinyalakan'\n",
        "    # Implementasi metode abstrak stop_mesin\n",
        "    # Jika salah satu metode abstrak tidak diimplementasi\n",
        "    # Kelas mobil ini juga akan menjadi abstrak\n",
        "    def stop_mesin(self):\n",
        "      # Kode di dalam metode ini adalah implementasinya\n",
        "      print(f\"Mesin mobil {self.merk} dimatikan.\") # Mencetak status 'dimatikan'\n",
        "\n",
        "  print(\"\\nContoh definisi kelas anak 'Mobil' selesai.\")\n",
        "\n",
        "  # Membuat objek dari kelas anak (konkret) diperbolehkan\n",
        "  mobil_contoh = Mobil(\"Toyota\")\n",
        "\n",
        "  # Memanggil metode yang diimplementasi di kelas anak\n",
        "  mobil_contoh.start_mesin()\n",
        "\n",
        "  # Memanggil metode konkret yang diwarisi dari kelas abstrak\n",
        "  mobil_contoh.info_merk()\n",
        "\n",
        "  # Memanggil metode lain yang diimplementasi di kelas anak\n",
        "  mobil_contoh.stop_mesin()"
      ]
    },
    {
      "cell_type": "code",
      "source": [
        "from abc import ABC, abstractmethod\n",
        "\n",
        "# Definisikan kelas abstrak\n",
        "class MediaAbstrak(ABC):\n",
        "  def __init__(self, judul):\n",
        "    self.judul = judul\n",
        "    print(f\"Inisiasi MediaAbstrak dengan judul {self.judul}\")\n",
        "\n",
        "  @abstractmethod\n",
        "  def play(self):\n",
        "    \"\"\"Metode abstrak untuk memulai pemutaran\"\"\"\n",
        "    pass\n",
        "\n",
        "  @abstractmethod\n",
        "  def stop(self):\n",
        "    \"\"\"Metode abstrak untuk menghentikan pemutaran\"\"\"\n",
        "    pass\n",
        "\n",
        "# --- Kode Utama ---\n",
        "if __name__==\"__main__\":\n",
        "  print(\"Mencoba membuat objek dari kelas abstrak MediaAbstrak...\")\n",
        "\n",
        "  # Blok try-except untuk menangkap error yang diharapkan\n",
        "  try:\n",
        "    # Baris ini akan menyebabkan TypeError karena MediaAbstrak\n",
        "      # memiliki metode abstrak (play dan stop) yang belum diimplementasi\n",
        "    media = MediaAbstrak(\"Konten Abstrak\")\n",
        "      # Kode di bawah ini tidak akan pernah dijalankan jika error terjadi\n",
        "    print(\"Objek berhasil dibuat (SEHARUSNYA TIDAK TERJADI).\")\n",
        "    media.play\n",
        "  except TypeError as e:\n",
        "    # Menangkap dan menampilkan error TypeError\n",
        "    print(f\"\\nGAGAL membuat objek!\")\n",
        "    print(f\"Error yang muncul (sesuai harapan): {e}\")\n",
        "    print(f\"\\nIni membuktikan bahwa kelas abstrak tidak bisa diinstansiasi\")\n",
        "    print(\"Jika masih memiliki metode abstrak yang belum diimplementasikan.\")"
      ],
      "metadata": {
        "id": "EGnyFnY-6F4Q",
        "outputId": "8609c42b-dca6-415f-803e-cb6e44fde357",
        "colab": {
          "base_uri": "https://localhost:8080/"
        }
      },
      "execution_count": 3,
      "outputs": [
        {
          "output_type": "stream",
          "name": "stdout",
          "text": [
            "Mencoba membuat objek dari kelas abstrak MediaAbstrak...\n",
            "\n",
            "GAGAL membuat objek!\n",
            "Error yang muncul (sesuai harapan): Can't instantiate abstract class MediaAbstrak with abstract methods play, stop\n",
            "\n",
            "Ini membuktikan bahwa kelas abstrak tidak bisa diinstansiasi\n",
            "Jika masih memiliki metode abstrak yang belum diimplementasikan.\n"
          ]
        }
      ]
    },
    {
      "cell_type": "code",
      "source": [
        "from abc import ABC, abstractmethod\n",
        "import locale\n",
        "import random # Untuk simulasi\n",
        "\n",
        "# Setting locale Indonesia\n",
        "try:\n",
        "  locale.setlocale(locale.LC_ALL, 'id_ID.UTF-8')\n",
        "except locale.Error:\n",
        "  print(\"Locale id_ID.UTF-8 tidak tersedia, gunakan locale default.\")\n",
        "\n",
        "def format_rupiah(angka):\n",
        "  return locale.currency(angka, grouping=True, symbol='Rp ')\n",
        "\n",
        "# Kelas Abstrak\n",
        "class AlatPembayaranAbstrak(ABC):\n",
        "  def __init__(self, nama_metode):\n",
        "    self.nama_metode = nama_metode\n",
        "    print(f\"Inisialisasi alat pembayaran: {self.nama_metode}\")\n",
        "\n",
        "  def info(self):\n",
        "    print(f\"Metode Pembayaran: {self.nama_metode}\")\n",
        "\n",
        "  @abstractmethod\n",
        "  def proses_pembayaran(self, jumlah):\n",
        "    \"\"\"\n",
        "    Metode Abstrak untuk memproses pembayaran sejumlah 'jumlah'.\n",
        "    Harus diimplementasikan oleh subclass\n",
        "    Harus mengembalikan nilai True jika berhasil, False jika gagal.\n",
        "    \"\"\"\n",
        "    pass\n",
        "\n",
        "# --- Implementasi Subclass Konkret ---\n",
        "# 1. Subclass Konkret Pertama: KartuKredit\n",
        "class KartuKredit(AlatPembayaranAbstrak):\n",
        "  def __init__(self, nomor_kartu, nama_pemilik):\n",
        "    super().__init__(\"Kartu Kredit\")\n",
        "    self.nomor_kartu = nomor_kartu[-4:]\n",
        "    self.nama_pemilik = nama_pemilik\n",
        "    print(f\"  -> Kartu Kredit ************{self.nomor_kartu} ({self.nama_pemilik}) siap.\")\n",
        "\n",
        "    # Implementasi metode abstrak proses_pembayaran\n",
        "    def proses_pembayaran(self, jumlah):\n",
        "      print(f\" Memproses pembayaran {format_rupiah(jumlah)} via Kartu Kredit ************{self.nomor_kartu}...\")\n",
        "      # Simulasi Keberhasilan/Kegagalan\n",
        "      berhasil = ramdom.choice([True, False])\n",
        "      if berhasil:\n",
        "        print(\" Pembayaran Kartu Kredit Berhasil.\")\n",
        "        return True\n",
        "      else:\n",
        "        print(\" Pembayaran Kartu kredit Gagal (Limit tidak cukup/Error).\")\n",
        "        return False\n",
        "\n",
        "# 2. Subclass Konkret Kedua: DompetDigital\n",
        "class DompetDigital(AlatPembayaranAbstrak):\n",
        "  def __init__(self, nomor_telepon, nama_provider):\n",
        "    super().__init__(f\"Dompet DIgital ({nama_provider})\")\n",
        "    self.nomor_telepon = nomor_telepon\n",
        "    self._saldo = random.randint(50000, 500000) # Saldo awal acak\n",
        "    print(f\" -> Dompet Digital {self.nomor_telepon} siap (Saldo: {format_rupiah(self._saldo)})\")\n",
        "\n",
        "  # Implementasi metode abstrak proses_pembayaran\n",
        "  def proses_pembayaran(self, jumlah):\n",
        "    print(f\" Memproses pembayaran {format_rupiah(jumlah)} via Dompet Digital {self.nomor_telepon}...\")\n",
        "    if jumlah <= self._saldo:\n",
        "      self._saldo -= jumlah\n",
        "      print(\" Pembayaran Dompet Digital Berhasil.\")\n",
        "      print(f\" Saldo tersisa: {format_rupiah(self._saldo)}\")\n",
        "      return True\n",
        "    else:\n",
        "      print(\" Pembayaran Dompet Digital Gagal (Saldo tidak mencukupi).\")\n",
        "      print(f\" Saldo saat ini: {format_rupiah(self._saldo)}\")\n",
        "      return False\n",
        "\n",
        "# --- Kode Utama ---\n",
        "if __name__==\"__main__\":\n",
        "  print(\"\\nMembuat Objek Alat Pembayaran...\")\n",
        "  kartu_bca = KartuKredit(\"1234-5678-9012-3456\", \"Budi Cahyono\")\n",
        "  gopay = DompetDigital(\"08123456789\", \"GoPay\")\n",
        "\n",
        "  print(\"\\nMelakukan Pembayaran...\")\n",
        "\n",
        "  print(\"\\nMencoba bayar dengan Kartu Kredit:\")\n",
        "  kartu_bca.info()\n",
        "  status_kk = kartu_bca.proses_pembayaran(150000)\n",
        "  print(f\" Status Transaksi KK: {'Sukses' if status_kk else 'Gagal'}\")\n",
        "\n",
        "  print(\"\\nMencoba bayar dengan GoPay (Jumlah Kecil):\")\n",
        "  gopay.info()\n",
        "  status_gopay2 = gopay.proses_pembayaran(1000000) # Kemungkinan gagal karena saldo\n",
        "  print(f\" Status Transaksi GoPay 2: {'Sukses' if status_gopay2 else 'Gagal'}\")"
      ],
      "metadata": {
        "id": "SOCpP-Z18sEz",
        "outputId": "326b1131-59dd-4c8a-ebce-469984e9109f",
        "colab": {
          "base_uri": "https://localhost:8080/",
          "height": 263
        }
      },
      "execution_count": 4,
      "outputs": [
        {
          "output_type": "stream",
          "name": "stdout",
          "text": [
            "Locale id_ID.UTF-8 tidak tersedia, gunakan locale default.\n",
            "\n",
            "Membuat Objek Alat Pembayaran...\n"
          ]
        },
        {
          "output_type": "error",
          "ename": "TypeError",
          "evalue": "Can't instantiate abstract class KartuKredit with abstract method proses_pembayaran",
          "traceback": [
            "\u001b[0;31m---------------------------------------------------------------------------\u001b[0m",
            "\u001b[0;31mTypeError\u001b[0m                                 Traceback (most recent call last)",
            "\u001b[0;32m<ipython-input-4-9ca3ba7188f7>\u001b[0m in \u001b[0;36m<cell line: 0>\u001b[0;34m()\u001b[0m\n\u001b[1;32m     75\u001b[0m \u001b[0;32mif\u001b[0m \u001b[0m__name__\u001b[0m\u001b[0;34m==\u001b[0m\u001b[0;34m\"__main__\"\u001b[0m\u001b[0;34m:\u001b[0m\u001b[0;34m\u001b[0m\u001b[0;34m\u001b[0m\u001b[0m\n\u001b[1;32m     76\u001b[0m   \u001b[0mprint\u001b[0m\u001b[0;34m(\u001b[0m\u001b[0;34m\"\\nMembuat Objek Alat Pembayaran...\"\u001b[0m\u001b[0;34m)\u001b[0m\u001b[0;34m\u001b[0m\u001b[0;34m\u001b[0m\u001b[0m\n\u001b[0;32m---> 77\u001b[0;31m   \u001b[0mkartu_bca\u001b[0m \u001b[0;34m=\u001b[0m \u001b[0mKartuKredit\u001b[0m\u001b[0;34m(\u001b[0m\u001b[0;34m\"1234-5678-9012-3456\"\u001b[0m\u001b[0;34m,\u001b[0m \u001b[0;34m\"Budi Cahyono\"\u001b[0m\u001b[0;34m)\u001b[0m\u001b[0;34m\u001b[0m\u001b[0;34m\u001b[0m\u001b[0m\n\u001b[0m\u001b[1;32m     78\u001b[0m   \u001b[0mgopay\u001b[0m \u001b[0;34m=\u001b[0m \u001b[0mDompetDigital\u001b[0m\u001b[0;34m(\u001b[0m\u001b[0;34m\"08123456789\"\u001b[0m\u001b[0;34m,\u001b[0m \u001b[0;34m\"GoPay\"\u001b[0m\u001b[0;34m)\u001b[0m\u001b[0;34m\u001b[0m\u001b[0;34m\u001b[0m\u001b[0m\n\u001b[1;32m     79\u001b[0m \u001b[0;34m\u001b[0m\u001b[0m\n",
            "\u001b[0;31mTypeError\u001b[0m: Can't instantiate abstract class KartuKredit with abstract method proses_pembayaran"
          ]
        }
      ]
    }
  ]
}