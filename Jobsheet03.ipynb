{
  "nbformat": 4,
  "nbformat_minor": 0,
  "metadata": {
    "colab": {
      "provenance": [],
      "authorship_tag": "ABX9TyO8F4ypH/lHdVZCRvTQBfgO",
      "include_colab_link": true
    },
    "kernelspec": {
      "name": "python3",
      "display_name": "Python 3"
    },
    "language_info": {
      "name": "python"
    }
  },
  "cells": [
    {
      "cell_type": "markdown",
      "metadata": {
        "id": "view-in-github",
        "colab_type": "text"
      },
      "source": [
        "<a href=\"https://colab.research.google.com/github/Oka05286/2025_PBO_TI1C/blob/main/Jobsheet03.ipynb\" target=\"_parent\"><img src=\"https://colab.research.google.com/assets/colab-badge.svg\" alt=\"Open In Colab\"/></a>"
      ]
    },
    {
      "cell_type": "code",
      "execution_count": 4,
      "metadata": {
        "id": "bZ99IrGuS0sv",
        "colab": {
          "base_uri": "https://localhost:8080/"
        },
        "outputId": "52108e60-c0d4-45b9-b107-6e46101bf915"
      },
      "outputs": [
        {
          "output_type": "stream",
          "name": "stdout",
          "text": [
            "500 telah ditambahkan ke akun Alice.\n",
            "Jumlah deposit harus lebih dari 0.\n",
            "300 telah ditarik dari akun Alice.\n",
            "Saldo tidak mencukupi.\n",
            "Saldo terakhir di akun Alice: 1200\n",
            "Akses langsung owner (tidak disarankan): Alice\n"
          ]
        }
      ],
      "source": [
        "class BankAccount:\n",
        "    def __init__(self, owner, balance):\n",
        "        # Atribut dengan double underscore (__) dianggap \"private\" di Python\n",
        "        self.__owner = owner\n",
        "        self.__balance = balance\n",
        "\n",
        "    def deposit(self, amount):\n",
        "        \"\"\"Method untuk menambahkan saldo.\"\"\"\n",
        "        if amount > 0:\n",
        "            self.__balance += amount\n",
        "            print(f\"{amount} telah ditambahkan ke akun {self.__owner}.\")\n",
        "        else:\n",
        "            print(\"Jumlah deposit harus lebih dari 0.\")\n",
        "\n",
        "    def withdraw(self, amount):\n",
        "        \"\"\"Method untuk menarik saldo.\"\"\"\n",
        "        if amount <= self.__balance:\n",
        "            self.__balance -= amount\n",
        "            print(f\"{amount} telah ditarik dari akun {self.__owner}.\")\n",
        "        else:\n",
        "            print(\"Saldo tidak mencukupi.\")\n",
        "\n",
        "    def get_balance(self):\n",
        "        \"\"\"Method untuk mendapatkan informasi saldo terkini.\"\"\"\n",
        "        return self.__balance\n",
        "\n",
        "# Contoh penggunaan\n",
        "if __name__ == \"__main__\":\n",
        "    # Membuat objek BankAccount dengan owner=\"Alice\" dan balance awal 1000\n",
        "    alice_account = BankAccount(owner=\"Alice\", balance=1000)\n",
        "\n",
        "    # Deposit uang\n",
        "    alice_account.deposit(500)  # Berhasil\n",
        "    alice_account.deposit(-100)  # Gagal (validasi)\n",
        "\n",
        "    # Withdraw uang\n",
        "    alice_account.withdraw(300)  # Berhasil\n",
        "    alice_account.withdraw(2000)  # Gagal (saldo tidak cukup)\n",
        "\n",
        "    # Mendapatkan saldo\n",
        "    current_balance = alice_account.get_balance()\n",
        "    print(f\"Saldo terakhir di akun {alice_account._BankAccount__owner}: {current_balance}\")\n",
        "\n",
        "    # Mencoba mengakses atribut 'private' langsung (tidak direkomendasikan)\n",
        "    print(\"Akses langsung owner (tidak disarankan):\", alice_account._BankAccount__owner)\n"
      ]
    },
    {
      "cell_type": "code",
      "source": [
        "class Employee:\n",
        "    def __init__(self, name, salary):\n",
        "    # Atribut privat dengan double underscore\n",
        "        self.__name = name\n",
        "        self.__salary = salary\n",
        "    def update_salary(self, increase):\n",
        "        \"\"\"Method untuk menaikkan gaji dengan validasi.\"\"\"\n",
        "        if increase > 0:\n",
        "            self.__salary += increase\n",
        "            print(f\"Gaji telah dinaikkan sebesar {increase}.\")\n",
        "        else:\n",
        "            print(\"Nilai kenaikan harus lebih dari 0.\")\n",
        "\n",
        "    def set_salary(self, new_salary):\n",
        "        \"\"\"Method untuk mengubah gaji dengan validasi.\"\"\"\n",
        "        if new_salary >= 0:\n",
        "            self.__salary = new_salary\n",
        "            print(f\"Gaji diatur ulang menjadi {new_salary}.\")\n",
        "        else:\n",
        "            print(\"Gaji tidak dapat bernilai negatif.\")\n",
        "    def get_salary(self):\n",
        "        \"\"\"Method untuk mendapatkan informasi gaji.\"\"\"\n",
        "        return self.__salary\n",
        "\n",
        "    def get_employee_info(self):\n",
        "\n",
        "        \"\"\"Method untuk menampilkan informasi karyawan secara  menyeluruh.\"\"\"\n",
        "        return f\"Employee: {self.__name}, Gaji: {self.__salary}\"\n",
        "    # Contoh penggunaan\n",
        "if __name__ == \"__main__\":\n",
        "# Membuat objek Employee dengan nama \"John Doe\" dan gaji awal 50000\n",
        "    employee1 = Employee(\"John Doe\", 50000)\n",
        "\n",
        "# Tampilkan informasi karyawan\n",
        "    print(employee1.get_employee_info())\n",
        "\n",
        "# Update gaji dengan menaikkan sebesar 5000\n",
        "    employee1.update_salary(5000)\n",
        "    print(f\"Gaji setelah kenaikan: {employee1.get_salary()}\")\n",
        "# Atur ulang gaji dengan nilai baru\n",
        "    employee1.set_salary(60000)\n",
        "    print(f\"Informasi terbaru: {employee1.get_employee_info()}\")\n",
        "# Mencoba mengakses atribut privat secara langsung (tidak  direkomendasikan)\n",
        "# Contoh: print(employee1.__salary) --> Ini akan menimbulkan error\n"
      ],
      "metadata": {
        "colab": {
          "base_uri": "https://localhost:8080/"
        },
        "id": "5HRQJ_1KXm73",
        "outputId": "3e45df5c-1aa7-438f-9784-9671baad54ad"
      },
      "execution_count": 7,
      "outputs": [
        {
          "output_type": "stream",
          "name": "stdout",
          "text": [
            "Employee: John Doe, Gaji: 50000\n",
            "Gaji telah dinaikkan sebesar 5000.\n",
            "Gaji setelah kenaikan: 55000\n",
            "Gaji diatur ulang menjadi 60000.\n",
            "Informasi terbaru: Employee: John Doe, Gaji: 60000\n"
          ]
        }
      ]
    }
  ]
}